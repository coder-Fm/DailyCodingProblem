{
 "cells": [
  {
   "cell_type": "markdown",
   "metadata": {},
   "source": [
    "### Problem\n",
    "\n",
    "### Given an array and a number k that's smaller than the length of the array, rotate the array to the right k elements in-place."
   ]
  },
  {
   "cell_type": "markdown",
   "metadata": {},
   "source": [
    "### Solution\n",
    "\n",
    "\n",
    "#### Method #1 : Looping through array in reverse order\n",
    "\n",
    "1. Declare and initialize array: Let array be arr\n",
    "2. Declare and initialize variables of the array : Let n be the length of arr. The given number k < n. k can represent the length of a smaller temporary array, temp.\n",
    "**Right-rotated array is an array with its all elements shifted to its right by one position.**\n",
    "3. Now, rotation is for the right side of the array, meaning the last k elements or arr, will be the first k elements of temp.\n",
    "4. Shift rest of arr to the right\n",
    "5. Now, store back the k elements of temp in arr \n",
    "\n",
    "Example:\n",
    "\n",
    "arr = [1, 2, 3, 4, 5, 6, 7], k = 2, n = 7\n",
    "\n",
    "The solution will be:\n",
    "\n",
    "temp = [6, 7]\n",
    "\n",
    "arr = [1, 2, 3, 4, 5]  --> arr = [**6, 7**, 1, 2, 3, 4, 5]"
   ]
  },
  {
   "cell_type": "code",
   "execution_count": 1,
   "metadata": {},
   "outputs": [
    {
     "data": {
      "text/plain": [
       "[6, 7, 1, 2, 3, 4, 5]"
      ]
     },
     "execution_count": 1,
     "metadata": {},
     "output_type": "execute_result"
    }
   ],
   "source": [
    "# rightRotate: array, number --> array\n",
    "# rightRotate: consumes an array arr and a number of rotation k, then\n",
    "# returns an array rotated to the right by k.\n",
    "# time complexity: O(n).\n",
    "def rightRotate(arr,k):\n",
    "    n = len(arr)\n",
    "    for i in range(0, k):\n",
    "        temp = arr[n-1]\n",
    "        for j in range(n-1, -1, -1):\n",
    "            arr[j] = arr[j-1]\n",
    "        arr[0] = temp\n",
    "    return arr\n",
    "\n",
    "#test\n",
    "arr = [1, 2, 3, 4, 5, 6, 7]\n",
    "rightRotate(arr, 2)"
   ]
  },
  {
   "cell_type": "markdown",
   "metadata": {},
   "source": [
    "\n",
    "#### Method #2 : Using the Greater Common Divisor \n",
    "1. Divide array into sets, where number of sets is equal to GCD of n and k\n",
    "2. Move elements of sets, if GCD equals 1, then elements will be moved within 1 set only.\n",
    "3. start with a temporary array temp where the last element of the original array is the first element of temp\n",
    "4. store temp at the right place.\n",
    "\n",
    "Example: \n",
    "\n",
    "let arr = [1, 2, 3, 4, 5, 6, 7, 8, 9, 10], n = 10, k = 2.\n",
    "\n",
    "step 1: Divide array into sets\n",
    "\n",
    "step 2: Move first set, arr = [**9**, 2, **1**, 4, **3**, 6, **5**, 8, **7**, 10]\n",
    "\n",
    "step3: Move second set, arr = [9, **10**, 1, **2**, 3, **4**, 5, **6**, 7, **8**]\n"
   ]
  },
  {
   "cell_type": "code",
   "execution_count": 2,
   "metadata": {},
   "outputs": [
    {
     "data": {
      "text/plain": [
       "[9, 10, 1, 2, 3, 4, 5, 6, 7, 8]"
      ]
     },
     "execution_count": 2,
     "metadata": {},
     "output_type": "execute_result"
    }
   ],
   "source": [
    "# RigthRotate: array, number -> array\n",
    "# RightRotate: consumes an array arr, and a number of rotation k,\n",
    "# then returns a rotated array\n",
    "# time complexity: O(n).\n",
    "def RightRotate(arr, k):\n",
    "    n = len(arr)\n",
    "    #gcd function calculates the greater conmmon divisor\n",
    "    #of any given x and y\n",
    "    def gcd(x, y):\n",
    "        if y == 0:\n",
    "            return x;\n",
    "        else:\n",
    "            return gcd(y, x % y)\n",
    "    k = k % n\n",
    "    arr_gcd = gcd(k, n)\n",
    "    \n",
    "    for i in range(arr_gcd, n):\n",
    "        temp = arr[i]\n",
    "        j = i\n",
    "        \n",
    "        while 1: \n",
    "            m = j + k\n",
    "            if m >= n:\n",
    "                m = m - n\n",
    "            if m == i:\n",
    "                break\n",
    "            arr[j] = arr[m]\n",
    "            j = m\n",
    "        arr[j] = temp\n",
    "    return arr\n",
    "#test\n",
    "arr = [1, 2, 3, 4, 5, 6, 7, 8, 9, 10]\n",
    "\n",
    "RightRotate(arr, 2)"
   ]
  }
 ],
 "metadata": {
  "kernelspec": {
   "display_name": "Python 3",
   "language": "python",
   "name": "python3"
  },
  "language_info": {
   "codemirror_mode": {
    "name": "ipython",
    "version": 3
   },
   "file_extension": ".py",
   "mimetype": "text/x-python",
   "name": "python",
   "nbconvert_exporter": "python",
   "pygments_lexer": "ipython3",
   "version": "3.7.4"
  }
 },
 "nbformat": 4,
 "nbformat_minor": 2
}
