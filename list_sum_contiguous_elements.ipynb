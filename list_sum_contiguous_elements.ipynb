{
 "cells": [
  {
   "cell_type": "markdown",
   "metadata": {},
   "source": [
    "## Problem\n",
    "Given a list of integers and a number K, return which contiguous elements of the list sum to K.\n",
    "\n",
    "For example, if the list is [1, 2, 3, 4, 5] and K is 9, then it should return [2, 3, 4], since 2 + 3 + 4 = 9."
   ]
  },
  {
   "cell_type": "markdown",
   "metadata": {},
   "source": [
    "## Solution\n",
    "\n",
    "**Method #1**"
   ]
  },
  {
   "cell_type": "code",
   "execution_count": 1,
   "metadata": {},
   "outputs": [
    {
     "data": {
      "text/plain": [
       "[2, 3, 4]"
      ]
     },
     "execution_count": 1,
     "metadata": {},
     "output_type": "execute_result"
    }
   ],
   "source": [
    "# array_sum: array, number --> array\n",
    "# array_sum: consumes an array arr and a number K, loop through the array,\n",
    "# and returns array of elements with sum K\n",
    "def array_sum(arr, K):\n",
    "    n = len(arr)\n",
    "    \n",
    "    for i in range(n):       \n",
    "        for j in range(n):\n",
    "            if sum(arr[i:i + j]) == K:\n",
    "                return arr[i:i + j]\n",
    "\n",
    "    else:\n",
    "        print('No contiguous elements of sum ',K)\n",
    "    \n",
    "#test\n",
    "arr = [1, 2, 3, 4, 5]\n",
    "array_sum(arr, 9)"
   ]
  },
  {
   "cell_type": "markdown",
   "metadata": {},
   "source": [
    "**Method #2** "
   ]
  },
  {
   "cell_type": "code",
   "execution_count": 2,
   "metadata": {},
   "outputs": [
    {
     "data": {
      "text/plain": [
       "[1, 2, 3, 4]"
      ]
     },
     "execution_count": 2,
     "metadata": {},
     "output_type": "execute_result"
    }
   ],
   "source": [
    "def contiguous_sum(lst, k):\n",
    "    lst_len = len(lst)\n",
    "    sum_lst = []\n",
    "    for i in range(1, lst_len + 1):\n",
    "        m = lst[i]      \n",
    "        total = sum(sum_lst)\n",
    "        \n",
    "        if total <= k:\n",
    "            sum_lst.append(m)          \n",
    "            return sum_lst\n",
    "    else: \n",
    "        print('No contiguous elements of sum ',k)\n",
    " \n",
    "#test\n",
    "arr = [1, 2, 3, 4, 5]\n",
    "array_sum(arr, 10)"
   ]
  }
 ],
 "metadata": {
  "kernelspec": {
   "display_name": "Python 3",
   "language": "python",
   "name": "python3"
  },
  "language_info": {
   "codemirror_mode": {
    "name": "ipython",
    "version": 3
   },
   "file_extension": ".py",
   "mimetype": "text/x-python",
   "name": "python",
   "nbconvert_exporter": "python",
   "pygments_lexer": "ipython3",
   "version": "3.7.4"
  }
 },
 "nbformat": 4,
 "nbformat_minor": 2
}
