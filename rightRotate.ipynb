{
 "cells": [
  {
   "cell_type": "markdown",
   "metadata": {},
   "source": [
    "### Problem\n",
    "\n",
    "### Given an array and a number k that's smaller than the length of the array, rotate the array to the right k elements in-place."
   ]
  },
  {
   "cell_type": "markdown",
   "metadata": {},
   "source": [
    "### Solution\n",
    "\n",
    "\n",
    "#### Method #1 : Looping through array in reverse order\n",
    "\n",
    "1. Declare and initialize array: Let array be arr\n",
    "2. Declare and initialize variables of the array : Let n be the length of arr. The given number k < n. k can represent the length of a smaller temporary array, temp.\n",
    "**Right-rotated array is an array with its all elements shifted to its right by one position.**\n",
    "3. Now, rotation is for the right side of the array, meaning the last k elements or arr, will be the first k elements of temp.\n",
    "4. Shift rest of arr to the right\n",
    "5. Now, store back the k elements of temp in arr \n",
    "\n",
    "Example:\n",
    "\n",
    "arr = [1, 2, 3, 4, 5, 6, 7], k = 2, n = 7\n",
    "\n",
    "The solution will be:\n",
    "\n",
    "temp = [6, 7]\n",
    "\n",
    "arr = [1, 2, 3, 4, 5]  --> arr = [**6, 7**, 1, 2, 3, 4, 5]"
   ]
  },
  {
   "cell_type": "code",
   "execution_count": 1,
   "metadata": {},
   "outputs": [
    {
     "data": {
      "text/plain": [
       "[6, 7, 1, 2, 3, 4, 5]"
      ]
     },
     "execution_count": 1,
     "metadata": {},
     "output_type": "execute_result"
    }
   ],
   "source": [
    "# rightRotate: array, number --> array\n",
    "# rightRotate: consumes an array arr and a number of rotation k, then\n",
    "# returns an array rotated to the right by k.\n",
    "def rightRotate(arr,k):\n",
    "    n = len(arr)\n",
    "    for i in range(0, k):\n",
    "        temp = arr[n-1]\n",
    "        for j in range(n-1, -1, -1):\n",
    "            arr[j] = arr[j-1]\n",
    "        arr[0] = temp\n",
    "    return arr\n",
    "\n",
    "#test\n",
    "arr = [1, 2, 3, 4, 5, 6, 7]\n",
    "rightRotate(arr, 2)"
   ]
  }
 ],
 "metadata": {
  "kernelspec": {
   "display_name": "Python 3",
   "language": "python",
   "name": "python3"
  },
  "language_info": {
   "codemirror_mode": {
    "name": "ipython",
    "version": 3
   },
   "file_extension": ".py",
   "mimetype": "text/x-python",
   "name": "python",
   "nbconvert_exporter": "python",
   "pygments_lexer": "ipython3",
   "version": "3.7.4"
  }
 },
 "nbformat": 4,
 "nbformat_minor": 2
}
